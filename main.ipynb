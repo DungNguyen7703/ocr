{
 "cells": [
  {
   "cell_type": "code",
   "execution_count": null,
   "metadata": {},
   "outputs": [],
   "source": [
    "!git clone https://github.com/datvodinh10/project-DD.git"
   ]
  },
  {
   "cell_type": "code",
   "execution_count": 1,
   "metadata": {},
   "outputs": [],
   "source": [
    "import torch"
   ]
  },
  {
   "cell_type": "code",
   "execution_count": null,
   "metadata": {},
   "outputs": [],
   "source": [
    "from src.model.trainer import Trainer"
   ]
  },
  {
   "cell_type": "code",
   "execution_count": null,
   "metadata": {},
   "outputs": [],
   "source": [
    "config = {\n",
    "    'transformer':{\n",
    "        'embed_size': 256,\n",
    "        'num_heads':4,\n",
    "        'num_layers':2,\n",
    "        'max_len': 10_000,\n",
    "        'dropout':0.2,\n",
    "        'bias':False,     \n",
    "        'block_size':256,\n",
    "        \n",
    "    },\n",
    "    'device':torch.device('cuda:0' if torch.cuda.is_available() else 'cpu'),\n",
    "    'lr':1e-4,\n",
    "    'batch_size':32,\n",
    "    'n_iter':5\n",
    "}"
   ]
  },
  {
   "cell_type": "code",
   "execution_count": null,
   "metadata": {},
   "outputs": [],
   "source": [
    "trainer = Trainer(config      = config,\n",
    "                  IMAGE_PATH  = \"/content/new_train\",\n",
    "                  TARGET_PATH = \"/content/gdrive/MyDrive/Handwritten_OCR/train_gt.txt\")"
   ]
  }
 ],
 "metadata": {
  "kernelspec": {
   "display_name": "pytorchenv",
   "language": "python",
   "name": "python3"
  },
  "language_info": {
   "codemirror_mode": {
    "name": "ipython",
    "version": 3
   },
   "file_extension": ".py",
   "mimetype": "text/x-python",
   "name": "python",
   "nbconvert_exporter": "python",
   "pygments_lexer": "ipython3",
   "version": "3.9.16"
  },
  "orig_nbformat": 4
 },
 "nbformat": 4,
 "nbformat_minor": 2
}
