{
 "cells": [
  {
   "cell_type": "code",
   "execution_count": null,
   "metadata": {},
   "outputs": [],
   "source": [
    "!git clone https://github.com/datvodinh10/project-DD.git"
   ]
  },
  {
   "cell_type": "code",
   "execution_count": null,
   "metadata": {},
   "outputs": [],
   "source": [
    "config = {\n",
    "    'transformer':{\n",
    "        'vocab_size':1000,\n",
    "        'embed_size': 256,\n",
    "        'num_heads':4,\n",
    "        'num_layers':2,\n",
    "        'max_len': 10_000,\n",
    "        'dropout':0.2,\n",
    "        'bias':False,\n",
    "        'device':torch.device('cuda:0' if torch.cuda.is_available() else 'cpu'),\n",
    "        'lr':1e-4,\n",
    "        'batch_size':32,\n",
    "        'block_size':256,\n",
    "        'n_iter':5,\n",
    "    }\n",
    "}"
   ]
  },
  {
   "cell_type": "code",
   "execution_count": 17,
   "metadata": {},
   "outputs": [],
   "source": [
    "import torch\n",
    "import torch.nn.functional as F\n",
    "\n",
    "def pad_sequence(X: torch.Tensor, max_len: int):\n",
    "    # Determine the current length of the sequence\n",
    "    seq_len = X.size(0)\n",
    "\n",
    "    # Compute the required padding length\n",
    "    pad_len = max_len - seq_len\n",
    "\n",
    "    # Pad the sequence tensor with zeros\n",
    "    padded_X = torch.cat([X,torch.zeros((pad_len,*X.shape[1:]))],dim=0)\n",
    "\n",
    "    return padded_X"
   ]
  },
  {
   "cell_type": "code",
   "execution_count": 18,
   "metadata": {},
   "outputs": [
    {
     "data": {
      "text/plain": [
       "tensor([1., 2., 0., 0., 0.])"
      ]
     },
     "execution_count": 18,
     "metadata": {},
     "output_type": "execute_result"
    }
   ],
   "source": [
    "pad_sequence(torch.tensor([1,2]),5)"
   ]
  },
  {
   "cell_type": "code",
   "execution_count": 19,
   "metadata": {},
   "outputs": [
    {
     "data": {
      "text/plain": [
       "tensor([0., 0., 0.])"
      ]
     },
     "execution_count": 19,
     "metadata": {},
     "output_type": "execute_result"
    }
   ],
   "source": [
    "X = torch.tensor([1,2])\n",
    "pad_len = 3\n",
    "torch.zeros((pad_len,*X.shape[1:]))"
   ]
  },
  {
   "cell_type": "code",
   "execution_count": null,
   "metadata": {},
   "outputs": [],
   "source": []
  }
 ],
 "metadata": {
  "kernelspec": {
   "display_name": "pytorchenv",
   "language": "python",
   "name": "python3"
  },
  "language_info": {
   "codemirror_mode": {
    "name": "ipython",
    "version": 3
   },
   "file_extension": ".py",
   "mimetype": "text/x-python",
   "name": "python",
   "nbconvert_exporter": "python",
   "pygments_lexer": "ipython3",
   "version": "3.9.16"
  },
  "orig_nbformat": 4
 },
 "nbformat": 4,
 "nbformat_minor": 2
}
