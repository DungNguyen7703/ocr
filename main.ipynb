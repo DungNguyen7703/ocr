{
  "cells": [
    {
      "cell_type": "markdown",
      "metadata": {
        "colab_type": "text",
        "id": "view-in-github"
      },
      "source": [
        "<a href=\"https://colab.research.google.com/github/datvodinh10/project-DD/blob/master/main.ipynb\" target=\"_parent\"><img src=\"https://colab.research.google.com/assets/colab-badge.svg\" alt=\"Open In Colab\"/></a>"
      ]
    },
    {
      "cell_type": "markdown",
      "metadata": {},
      "source": [
        "## Import"
      ]
    },
    {
      "cell_type": "code",
      "execution_count": null,
      "metadata": {},
      "outputs": [],
      "source": [
        "!pip install timm"
      ]
    },
    {
      "cell_type": "code",
      "execution_count": null,
      "metadata": {
        "colab": {
          "base_uri": "https://localhost:8080/"
        },
        "id": "LWoBZTCwD9qN",
        "outputId": "83101836-9d90-48fc-e78e-d9f1881b3dbd"
      },
      "outputs": [],
      "source": [
        "from google.colab import drive\n",
        "drive.mount('/content/gdrive')"
      ]
    },
    {
      "cell_type": "code",
      "execution_count": null,
      "metadata": {
        "colab": {
          "base_uri": "https://localhost:8080/"
        },
        "id": "Ttf0ZyTkD2ZB",
        "outputId": "45375abd-13b6-4d54-a0cd-1ceca81a1f07"
      },
      "outputs": [],
      "source": [
        "!unzip /content/gdrive/MyDrive/Handwritten_OCR/training_data.zip"
      ]
    },
    {
      "cell_type": "code",
      "execution_count": null,
      "metadata": {
        "id": "zcgRE8IzDvSU"
      },
      "outputs": [],
      "source": [
        "import torch"
      ]
    },
    {
      "cell_type": "code",
      "execution_count": null,
      "metadata": {
        "colab": {
          "base_uri": "https://localhost:8080/"
        },
        "id": "Izd7jZGSDvSS",
        "outputId": "7233b2cb-7e9f-49df-a721-7c15ec5baaf7"
      },
      "outputs": [],
      "source": [
        "!git clone https://github.com/datvodinh10/project-DD.git\n",
        "%cd project-DD"
      ]
    },
    {
      "cell_type": "code",
      "execution_count": null,
      "metadata": {
        "id": "bGym2TwrDvSU"
      },
      "outputs": [],
      "source": [
        "from src.model.trainer import Trainer"
      ]
    },
    {
      "cell_type": "code",
      "execution_count": null,
      "metadata": {
        "colab": {
          "base_uri": "https://localhost:8080/"
        },
        "id": "85mysfcNEk5v",
        "outputId": "34fcf109-f51e-4408-e647-38ab5af312f9"
      },
      "outputs": [],
      "source": [
        "%cd .."
      ]
    },
    {
      "cell_type": "markdown",
      "metadata": {},
      "source": [
        "## Train"
      ]
    },
    {
      "cell_type": "code",
      "execution_count": null,
      "metadata": {},
      "outputs": [],
      "source": [
        "device = torch.device('cuda:0' if torch.cuda.is_available() else 'cpu')"
      ]
    },
    {
      "cell_type": "code",
      "execution_count": null,
      "metadata": {
        "id": "VmszHHmlDvSV"
      },
      "outputs": [],
      "source": [
        "config = {\n",
        "    'transformer':{\n",
        "        'embed_size': 384,\n",
        "        'num_heads':6,\n",
        "        'num_layers':2,\n",
        "        'max_len': 10_000,\n",
        "        'dropout':0.2,\n",
        "        'bias':False,\n",
        "        'block_size':256,\n",
        "\n",
        "    },\n",
        "    'encoder':{\n",
        "        'type': 'swin_transformer' # {'resnet18','resnet50,'vgg','swin_transformer'}\n",
        "    },\n",
        "    'device':device,\n",
        "    'lr':1e-4,\n",
        "    'batch_size':32,\n",
        "    'num_epochs':5\n",
        "}"
      ]
    },
    {
      "cell_type": "code",
      "execution_count": null,
      "metadata": {
        "id": "RVFVAU3JDvSV"
      },
      "outputs": [],
      "source": [
        "trainer = Trainer(config      = config,\n",
        "                  IMAGE_PATH  = \"/content/new_train\",\n",
        "                  TARGET_PATH = \"/content/gdrive/MyDrive/Handwritten_OCR/train_gt.txt\")"
      ]
    },
    {
      "cell_type": "code",
      "execution_count": null,
      "metadata": {
        "colab": {
          "base_uri": "https://localhost:8080/"
        },
        "id": "mTI7IzybF5Tp",
        "outputId": "e68155b7-7b07-4c4d-db15-5b70c9c41711"
      },
      "outputs": [],
      "source": [
        "trainer.train()"
      ]
    },
    {
      "cell_type": "code",
      "execution_count": null,
      "metadata": {
        "id": "suJim51WF9Rj"
      },
      "outputs": [],
      "source": [
        "save_dict = {\n",
        "    'state_dict':trainer.model.state_dict(),\n",
        "    'config':config,\n",
        "    'vocab_size':trainer.vocabulary.vocab_size\n",
        "}\n",
        "file_path = '/content/model.pth'\n",
        "torch.save(save_dict, file_path)"
      ]
    },
    {
      "cell_type": "markdown",
      "metadata": {},
      "source": [
        "## Predict"
      ]
    },
    {
      "cell_type": "code",
      "execution_count": null,
      "metadata": {},
      "outputs": [],
      "source": [
        "from src.utils.inference import Inference\n",
        "from src.utils.transform import Transform\n",
        "from PIL import Image\n",
        "import os\n",
        "import torch"
      ]
    },
    {
      "cell_type": "code",
      "execution_count": null,
      "metadata": {},
      "outputs": [],
      "source": [
        "infer = Inference(DATA_PATH   = file_path,\n",
        "                  TARGET_PATH = \"/content/gdrive/MyDrive/Handwritten_OCR/train_gt.txt\")"
      ]
    },
    {
      "cell_type": "code",
      "execution_count": null,
      "metadata": {},
      "outputs": [],
      "source": [
        "idx = torch.randint(1000,())\n",
        "img = Image.open(os.path.join(\"/content/new_train\",os.listdir(\"/content/new_train\")[idx]))\n",
        "trainer.vocabulary.decode(infer.predict(Transform.train_transform(img).unsqueeze(0).to(device))[0])"
      ]
    },
    {
      "cell_type": "code",
      "execution_count": null,
      "metadata": {},
      "outputs": [],
      "source": [
        "from torchvision import models\n",
        "models.resnet18"
      ]
    }
  ],
  "metadata": {
    "colab": {
      "include_colab_link": true,
      "provenance": []
    },
    "kernelspec": {
      "display_name": "pytorchenv",
      "language": "python",
      "name": "python3"
    },
    "language_info": {
      "codemirror_mode": {
        "name": "ipython",
        "version": 3
      },
      "file_extension": ".py",
      "mimetype": "text/x-python",
      "name": "python",
      "nbconvert_exporter": "python",
      "pygments_lexer": "ipython3",
      "version": "3.9.16"
    },
    "orig_nbformat": 4
  },
  "nbformat": 4,
  "nbformat_minor": 0
}
