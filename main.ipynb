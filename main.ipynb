{
  "cells": [
    {
      "cell_type": "markdown",
      "metadata": {
        "colab_type": "text",
        "id": "view-in-github"
      },
      "source": [
        "<a href=\"https://colab.research.google.com/github/datvodinh10/project-DD/blob/master/main.ipynb\" target=\"_parent\"><img src=\"https://colab.research.google.com/assets/colab-badge.svg\" alt=\"Open In Colab\"/></a>"
      ]
    },
    {
      "cell_type": "markdown",
      "metadata": {},
      "source": [
        "## Import"
      ]
    },
    {
      "cell_type": "code",
      "execution_count": null,
      "metadata": {},
      "outputs": [],
      "source": [
        "!pip install timm"
      ]
    },
    {
      "cell_type": "code",
      "execution_count": null,
      "metadata": {
        "colab": {
          "base_uri": "https://localhost:8080/"
        },
        "id": "LWoBZTCwD9qN",
        "outputId": "83101836-9d90-48fc-e78e-d9f1881b3dbd"
      },
      "outputs": [],
      "source": [
        "!pip install gdown\n",
        "!gdown 1lR0b1QBIsXk9JqL9__HgJQi0PdWeNxKi\n",
        "!gdown 1b4fCTrnfKnR0GHm1XCve9nhy7JyrqahR\n"
      ]
    },
    {
      "cell_type": "code",
      "execution_count": null,
      "metadata": {
        "colab": {
          "base_uri": "https://localhost:8080/"
        },
        "id": "Ttf0ZyTkD2ZB",
        "outputId": "45375abd-13b6-4d54-a0cd-1ceca81a1f07"
      },
      "outputs": [],
      "source": [
        "!unzip -q /content/training_data.zip\n",
        "# !unzip /kaggle/working/training_data.zip"
      ]
    },
    {
      "cell_type": "code",
      "execution_count": null,
      "metadata": {
        "id": "zcgRE8IzDvSU"
      },
      "outputs": [],
      "source": [
        "import torch"
      ]
    },
    {
      "cell_type": "code",
      "execution_count": null,
      "metadata": {
        "colab": {
          "base_uri": "https://localhost:8080/"
        },
        "id": "Izd7jZGSDvSS",
        "outputId": "7233b2cb-7e9f-49df-a721-7c15ec5baaf7"
      },
      "outputs": [],
      "source": [
        "!git clone https://github.com/datvodinh10/project-DD.git\n",
        "%cd project-DD"
      ]
    },
    {
      "cell_type": "code",
      "execution_count": null,
      "metadata": {
        "id": "bGym2TwrDvSU"
      },
      "outputs": [],
      "source": [
        "from src.model.trainer import Trainer"
      ]
    },
    {
      "cell_type": "code",
      "execution_count": null,
      "metadata": {
        "colab": {
          "base_uri": "https://localhost:8080/"
        },
        "id": "85mysfcNEk5v",
        "outputId": "34fcf109-f51e-4408-e647-38ab5af312f9"
      },
      "outputs": [],
      "source": [
        "%cd .."
      ]
    },
    {
      "cell_type": "code",
      "execution_count": null,
      "metadata": {},
      "outputs": [],
      "source": [
        "SRC_PATH = \"/content/new_train\"\n",
        "TARGET_PATH = \"/content/train_gt.txt\"\n",
        "MODEL_PATH = \"./\"\n",
        "\n",
        "# SRC_PATH = \"/kaggle/working/new_train\"\n",
        "# TARGET_PATH = \"/kaggle/working/train_gt.txt\"\n",
        "# MODEL_PATH = \"./data\""
      ]
    },
    {
      "cell_type": "markdown",
      "metadata": {},
      "source": [
        "## Train"
      ]
    },
    {
      "cell_type": "code",
      "execution_count": null,
      "metadata": {},
      "outputs": [],
      "source": [
        "device = torch.device('cuda:0' if torch.cuda.is_available() else 'cpu')"
      ]
    },
    {
      "cell_type": "code",
      "execution_count": null,
      "metadata": {
        "id": "VmszHHmlDvSV"
      },
      "outputs": [],
      "source": [
        "config = {\n",
        "    'transformer':{\n",
        "        'embed_size': 384,      # model's hidden size\n",
        "        'num_heads':8,          # number of heads in MSA\n",
        "        'num_layers':4,         # number of encoder/decoder layer\n",
        "        'max_len': 320,          # max sequence length\n",
        "        'dropout':0.2,          # dropout rate\n",
        "        'bias':False,           # attention bias\n",
        "        'embed_type': 'position' # {'position','learned'}\n",
        "\n",
        "    },\n",
        "    'encoder':{\n",
        "        'type': 'swin_transformer', # {'resnet18','resnet50,'vgg','swin_transformer','vision_transformer'}\n",
        "\n",
        "        'swin':{\n",
        "            'img_size':(64,256),\n",
        "            'embed_dim':48,\n",
        "            'window_size':8,\n",
        "            'in_channels':1\n",
        "        },\n",
        "    },\n",
        "    \n",
        "    'device':device,\n",
        "    'lr':1e-4,\n",
        "    'scheduler': {\n",
        "        'active': True,    \n",
        "        'first_cycle_steps': 400,\n",
        "        'cycle_mult': 1,  \n",
        "        'max_lr': 2e-4,          \n",
        "        'min_lr': 5e-5,   \n",
        "        'warmup_steps': 50,      \n",
        "        'gamma': 0.9   \n",
        "    },\n",
        "    'dataloader':{\n",
        "        'num_workers':0,\n",
        "    },\n",
        "    'max_grad_norm': 0.5,\n",
        "    'batch_size':256,\n",
        "    'num_epochs':100\n",
        "}"
      ]
    },
    {
      "cell_type": "code",
      "execution_count": null,
      "metadata": {
        "id": "RVFVAU3JDvSV"
      },
      "outputs": [],
      "source": [
        "trainer = Trainer(config      = config,\n",
        "                  IMAGE_PATH  = SRC_PATH,\n",
        "                  TARGET_PATH = TARGET_PATH)"
      ]
    },
    {
      "cell_type": "code",
      "execution_count": null,
      "metadata": {},
      "outputs": [],
      "source": [
        "def count_parameters(model):\n",
        "    return sum(p.numel() for p in model.parameters() if p.requires_grad)\n",
        "\n",
        "print(f'Total parameters: {count_parameters(trainer.model)}')"
      ]
    },
    {
      "cell_type": "code",
      "execution_count": null,
      "metadata": {
        "colab": {
          "base_uri": "https://localhost:8080/"
        },
        "id": "mTI7IzybF5Tp",
        "outputId": "e68155b7-7b07-4c4d-db15-5b70c9c41711"
      },
      "outputs": [],
      "source": [
        "trainer.train()"
      ]
    },
    {
      "cell_type": "code",
      "execution_count": null,
      "metadata": {
        "id": "suJim51WF9Rj"
      },
      "outputs": [],
      "source": [
        "save_dict = {\n",
        "    'state_dict':trainer.model.state_dict(),\n",
        "    'config':config,\n",
        "    'vocab_size':trainer.vocabulary.vocab_size,\n",
        "    'letter_to_idx': trainer.vocabulary.letter_to_idx,\n",
        "    'idx_to_letter': trainer.vocabulary.idx_to_letter\n",
        "}\n",
        "file_path = f\"{MODEL_PATH}/model_{config['encoder']['type']}_{config['num_epochs']}.pt\"\n",
        "torch.save(save_dict, file_path)"
      ]
    },
    {
      "cell_type": "markdown",
      "metadata": {},
      "source": [
        "## Predict"
      ]
    },
    {
      "cell_type": "code",
      "execution_count": null,
      "metadata": {},
      "outputs": [],
      "source": [
        "from src.utils.inference import Inference\n",
        "from PIL import Image\n",
        "import matplotlib.pyplot as plt\n",
        "import os\n",
        "import torch"
      ]
    },
    {
      "cell_type": "code",
      "execution_count": null,
      "metadata": {},
      "outputs": [],
      "source": [
        "infer = Inference(MODEL_PATH   = file_path)"
      ]
    },
    {
      "cell_type": "code",
      "execution_count": null,
      "metadata": {},
      "outputs": [],
      "source": [
        "idx = torch.randint(1000,())\n",
        "img = Image.open(os.path.join(SRC_PATH,os.listdir(SRC_PATH)[idx]))\n",
        "print(infer.predict(img,sampling='soft',temperature=0.2))\n",
        "print(infer.predict(img,sampling='repeat_penalty',temperature=0.2))\n",
        "print(infer.predict(img,sampling='hard'))\n",
        "print(infer.predict(img,sampling='top_k',k=25))\n",
        "print(infer.predict(img,sampling='top_p',p=0.8))"
      ]
    },
    {
      "cell_type": "code",
      "execution_count": null,
      "metadata": {},
      "outputs": [],
      "source": [
        "plt.imshow(img)"
      ]
    }
  ],
  "metadata": {
    "colab": {
      "include_colab_link": true,
      "provenance": []
    },
    "kernelspec": {
      "display_name": "pytorchenv",
      "language": "python",
      "name": "python3"
    },
    "language_info": {
      "codemirror_mode": {
        "name": "ipython",
        "version": 3
      },
      "file_extension": ".py",
      "mimetype": "text/x-python",
      "name": "python",
      "nbconvert_exporter": "python",
      "pygments_lexer": "ipython3",
      "version": "3.9.16"
    },
    "orig_nbformat": 4
  },
  "nbformat": 4,
  "nbformat_minor": 0
}
