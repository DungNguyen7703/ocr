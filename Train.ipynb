{
  "cells": [
    {
      "cell_type": "markdown",
      "metadata": {
        "colab_type": "text",
        "id": "view-in-github"
      },
      "source": [
        "<a href=\"https://colab.research.google.com/github/datvodinh10/project-DD/blob/master/main.ipynb\" target=\"_parent\"><img src=\"https://colab.research.google.com/assets/colab-badge.svg\" alt=\"Open In Colab\"/></a>"
      ]
    },
    {
      "cell_type": "markdown",
      "metadata": {},
      "source": [
        "## Import"
      ]
    },
    {
      "cell_type": "code",
      "execution_count": null,
      "metadata": {
        "colab": {
          "base_uri": "https://localhost:8080/"
        },
        "id": "LWoBZTCwD9qN",
        "outputId": "83101836-9d90-48fc-e78e-d9f1881b3dbd"
      },
      "outputs": [],
      "source": [
        "!pip install gdown\n",
        "!gdown 1dQ7dqVnBfp4STYMVsnkiLfiAIdFwrSkd # Training data\n",
        "!gdown 1YedVnk4uKFBPInsa6Mzik0bmZK2Vuf4e # Target label data\n",
        "#!gdown model_weight gdrive id \n",
        "!git clone https://github.com/datvodinh10/project-DD.git\n",
        "%cd project-DD\n",
        "from src.model.trainer import Trainer\n",
        "%cd ..\n",
        "# !unzip -q /content/training_data.zip\n",
        "# SRC_PATH = \"/content/new_train\"\n",
        "# TARGET_PATH = \"/content/train_gt.txt\"\n",
        "\n",
        "!unzip -q /kaggle/working/training_data.zip\n",
        "SRC_PATH = \"/kaggle/working/new_train\"\n",
        "TARGET_PATH = \"/kaggle/working/train_gt.txt\""
      ]
    },
    {
      "cell_type": "code",
      "execution_count": null,
      "metadata": {
        "id": "zcgRE8IzDvSU"
      },
      "outputs": [],
      "source": [
        "import torch"
      ]
    },
    {
      "cell_type": "code",
      "execution_count": null,
      "metadata": {},
      "outputs": [],
      "source": [
        "from src.model.trainer import Trainer\n",
        "from src.utils.load_config import load_config"
      ]
    },
    {
      "cell_type": "markdown",
      "metadata": {},
      "source": [
        "## Train"
      ]
    },
    {
      "cell_type": "code",
      "execution_count": null,
      "metadata": {},
      "outputs": [],
      "source": [
        "device = torch.device('cuda:0' if torch.cuda.is_available() else 'cpu')"
      ]
    },
    {
      "cell_type": "code",
      "execution_count": 1,
      "metadata": {},
      "outputs": [],
      "source": [
        "config = load_config('resnet')\n",
        "# MODEL_PATH = \"/content\"\n",
        "MODEL_PATH = f\"/kaggle/working/model_{config['encoder']['type']}_{config['num_epochs']}.pt\""
      ]
    },
    {
      "cell_type": "code",
      "execution_count": null,
      "metadata": {
        "id": "RVFVAU3JDvSV"
      },
      "outputs": [],
      "source": [
        "trainer = Trainer(config      = config,\n",
        "                  IMAGE_PATH  = SRC_PATH,\n",
        "                  TARGET_PATH = TARGET_PATH,\n",
        "                  MODEL_PATH  = MODEL_PATH,\n",
        "                  device      = device)"
      ]
    },
    {
      "cell_type": "code",
      "execution_count": null,
      "metadata": {},
      "outputs": [],
      "source": [
        "def count_parameters(model):\n",
        "    return sum(p.numel() for p in model.parameters() if p.requires_grad)\n",
        "\n",
        "print(f'Total parameters: {count_parameters(trainer.model)}')"
      ]
    },
    {
      "cell_type": "code",
      "execution_count": null,
      "metadata": {
        "colab": {
          "base_uri": "https://localhost:8080/"
        },
        "id": "mTI7IzybF5Tp",
        "outputId": "e68155b7-7b07-4c4d-db15-5b70c9c41711"
      },
      "outputs": [],
      "source": [
        "trainer.train()"
      ]
    }
  ],
  "metadata": {
    "colab": {
      "include_colab_link": true,
      "provenance": []
    },
    "kernelspec": {
      "display_name": "pytorchenv",
      "language": "python",
      "name": "python3"
    },
    "language_info": {
      "codemirror_mode": {
        "name": "ipython",
        "version": 3
      },
      "file_extension": ".py",
      "mimetype": "text/x-python",
      "name": "python",
      "nbconvert_exporter": "python",
      "pygments_lexer": "ipython3",
      "version": "3.9.16"
    },
    "orig_nbformat": 4
  },
  "nbformat": 4,
  "nbformat_minor": 0
}
