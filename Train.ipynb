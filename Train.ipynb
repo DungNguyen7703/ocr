{
  "cells": [
    {
      "cell_type": "markdown",
      "metadata": {
        "colab_type": "text",
        "id": "view-in-github"
      },
      "source": [
        "<a href=\"https://colab.research.google.com/github/datvodinh10/project-DD/blob/master/main.ipynb\" target=\"_parent\"><img src=\"https://colab.research.google.com/assets/colab-badge.svg\" alt=\"Open In Colab\"/></a>"
      ]
    },
    {
      "cell_type": "markdown",
      "metadata": {},
      "source": [
        "## Import"
      ]
    },
    {
      "cell_type": "code",
      "execution_count": null,
      "metadata": {
        "colab": {
          "base_uri": "https://localhost:8080/"
        },
        "id": "LWoBZTCwD9qN",
        "outputId": "83101836-9d90-48fc-e78e-d9f1881b3dbd"
      },
      "outputs": [],
      "source": [
        "!pip install gdown\n",
        "!gdown 1dQ7dqVnBfp4STYMVsnkiLfiAIdFwrSkd # Training data\n",
        "!gdown 1YedVnk4uKFBPInsa6Mzik0bmZK2Vuf4e # Target label data\n",
        "#!gdown model_weight gdrive id \n",
        "!git clone https://github.com/datvodinh10/project-DD.git\n",
        "%cd project-DD\n",
        "from src.model.trainer import Trainer\n",
        "%cd .."
      ]
    },
    {
      "cell_type": "code",
      "execution_count": null,
      "metadata": {
        "id": "zcgRE8IzDvSU"
      },
      "outputs": [],
      "source": [
        "import torch"
      ]
    },
    {
      "cell_type": "markdown",
      "metadata": {},
      "source": [
        "## Train"
      ]
    },
    {
      "cell_type": "code",
      "execution_count": null,
      "metadata": {},
      "outputs": [],
      "source": [
        "device = torch.device('cuda:0' if torch.cuda.is_available() else 'cpu')"
      ]
    },
    {
      "cell_type": "code",
      "execution_count": null,
      "metadata": {
        "id": "VmszHHmlDvSV"
      },
      "outputs": [],
      "source": [
        "config = {\n",
        "    'transformer':{\n",
        "        'embed_size': 384,       # model's hidden size\n",
        "        'num_heads':8,           # number of heads in MSA\n",
        "        'num_layers':4,          # number of encoder/decoder layer\n",
        "        'max_len': 320,          # max sequence length\n",
        "        'dropout':0.1,           # dropout rate\n",
        "        'bias':False,            # attention bias\n",
        "        'embed_type': 'position' # {'position','learned'}\n",
        "\n",
        "    },\n",
        "    'encoder':{\n",
        "        'type': 'swin_transformer_v2', # {'swin_transformer','swin_transformer_v2','resnet18','resnet50,'vgg'}\n",
        "        'swin':{\n",
        "            'patch_size':[4,4],      # patch size divived in swin model \n",
        "            'embed_dim':48,          # model's hidden size\n",
        "            'window_size':[2,6],     # window shifted size   \n",
        "            'dropout':0.1,           # dropout rate\n",
        "            'depths': [2,2,6,2],     # depth of swin model\n",
        "            'num_heads': [3,6,12,24] # number of heads in W-MSA\n",
        "        }\n",
        "    },\n",
        "    'decoder':{\n",
        "        'type': 'transformer'        # {transformer,ctc}\n",
        "    },\n",
        "    'scheduler': {\n",
        "        'active': True,             # active scheduler or not\n",
        "        'first_cycle_steps': 400,  # step each cycle\n",
        "        'cycle_mult': 1,            # cycle multiplier\n",
        "        'max_lr': 5e-4,             # max lr each cycle       \n",
        "        'min_lr': 3e-5,             # min lr each cycle\n",
        "        'warmup_steps': 40,        # step to warm up to max lr (total/10)\n",
        "        'gamma': 0.98              # max lr decay each cycle \n",
        "    },\n",
        "    'dataloader':{\n",
        "        'num_workers':0,\n",
        "        'type': 'normal'    # cluster by target len or image width {'cluster_target','cluster_image','normal'}\n",
        "    },\n",
        "    'img_size': (64,192),     # image size\n",
        "    'device':device,          # gpu or cpu\n",
        "    'lr':1e-4,                # learning rate\n",
        "    'padding': True,          # padding MSA and Loss\n",
        "    'enhancing': True,        # auto contrast and sharpen\n",
        "    'label_smoothing':0.1,    # smooth label CrossEntropyLoss\n",
        "    'max_grad_norm': 0.5,     # max gradient backward\n",
        "    'batch_size':256,         # batch_size\n",
        "    'num_epochs':200,         # totals epochs to train model\n",
        "    'save_per_epochs': 1,     # save data per #epoch\n",
        "    'print_type': 'per_epoch' # {'per_epoch','per_batch'}\n",
        "}"
      ]
    },
    {
      "cell_type": "code",
      "execution_count": null,
      "metadata": {},
      "outputs": [],
      "source": [
        "# !unzip -q /content/training_data.zip\n",
        "# SRC_PATH = \"/content/new_train\"\n",
        "# TARGET_PATH = \"/content/train_gt.txt\"\n",
        "# MODEL_PATH = \"/content\"\n",
        "\n",
        "!unzip -q /kaggle/working/training_data.zip\n",
        "SRC_PATH = \"/kaggle/working/new_train\"\n",
        "TARGET_PATH = \"/kaggle/working/train_gt.txt\"\n",
        "MODEL_PATH = f\"/kaggle/working/model_{config['encoder']['type']}_{config['num_epochs']}.pt\""
      ]
    },
    {
      "cell_type": "code",
      "execution_count": null,
      "metadata": {
        "id": "RVFVAU3JDvSV"
      },
      "outputs": [],
      "source": [
        "trainer = Trainer(config      = config,\n",
        "                  IMAGE_PATH  = SRC_PATH,\n",
        "                  TARGET_PATH = TARGET_PATH,\n",
        "                  MODEL_PATH  = MODEL_PATH)"
      ]
    },
    {
      "cell_type": "code",
      "execution_count": null,
      "metadata": {},
      "outputs": [],
      "source": [
        "def count_parameters(model):\n",
        "    return sum(p.numel() for p in model.parameters() if p.requires_grad)\n",
        "\n",
        "print(f'Total parameters: {count_parameters(trainer.model)}')"
      ]
    },
    {
      "cell_type": "code",
      "execution_count": null,
      "metadata": {
        "colab": {
          "base_uri": "https://localhost:8080/"
        },
        "id": "mTI7IzybF5Tp",
        "outputId": "e68155b7-7b07-4c4d-db15-5b70c9c41711"
      },
      "outputs": [],
      "source": [
        "trainer.train()"
      ]
    }
  ],
  "metadata": {
    "colab": {
      "include_colab_link": true,
      "provenance": []
    },
    "kernelspec": {
      "display_name": "pytorchenv",
      "language": "python",
      "name": "python3"
    },
    "language_info": {
      "codemirror_mode": {
        "name": "ipython",
        "version": 3
      },
      "file_extension": ".py",
      "mimetype": "text/x-python",
      "name": "python",
      "nbconvert_exporter": "python",
      "pygments_lexer": "ipython3",
      "version": "3.9.16"
    },
    "orig_nbformat": 4
  },
  "nbformat": 4,
  "nbformat_minor": 0
}
