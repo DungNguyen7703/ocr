{
  "cells": [
    {
      "cell_type": "markdown",
      "metadata": {},
      "source": [
        "## Import"
      ]
    },
    {
      "cell_type": "code",
      "execution_count": null,
      "metadata": {
        "id": "zcgRE8IzDvSU"
      },
      "outputs": [],
      "source": [
        "import torch\n",
        "import os"
      ]
    },
    {
      "cell_type": "code",
      "execution_count": null,
      "metadata": {
        "colab": {
          "base_uri": "https://localhost:8080/"
        },
        "id": "LWoBZTCwD9qN",
        "outputId": "83101836-9d90-48fc-e78e-d9f1881b3dbd"
      },
      "outputs": [],
      "source": [
        "!pip install gdown\n",
        "os.makedirs(\"/kaggle/temp\")\n",
        "%cd /kaggle/temp\n",
        "!gdown 1dQ7dqVnBfp4STYMVsnkiLfiAIdFwrSkd # train image\n",
        "!gdown 1YedVnk4uKFBPInsa6Mzik0bmZK2Vuf4e # target label\n",
        "# !gdown 16cLcmWh0NLFNOw4H46QkaWXuvlZhIs95 # augmented train image\n",
        "# !gdown 15xPGoC75p9Lb2NuPVIouFc-dw1Oplfrf # target label\n",
        "!unzip -q /kaggle/temp/training_data.zip\n",
        "\n",
        "!git clone https://github.com/datvodinh10/project-DD.git\n",
        "%cd project-DD\n",
        "from src.model.trainer import Trainer # Import Trainer\n",
        "\n",
        "%cd /kaggle/working\n",
        "# !gdown 1IjGk7pyXtsmyJA9Z-JvsLaG-wfJKB6B_ # model\n",
        "\n",
        "SRC_PATH = \"/kaggle/temp/content/gen/new_train\"\n",
        "TARGET_PATH = \"/kaggle/temp/train_gt.txt\""
      ]
    },
    {
      "cell_type": "markdown",
      "metadata": {},
      "source": [
        "## Train"
      ]
    },
    {
      "cell_type": "code",
      "execution_count": null,
      "metadata": {},
      "outputs": [],
      "source": [
        "device = torch.device('cuda:0' if torch.cuda.is_available() else 'cpu')\n",
        "print(device)"
      ]
    },
    {
      "cell_type": "code",
      "execution_count": null,
      "metadata": {},
      "outputs": [],
      "source": [
        "import yaml\n",
        "f_name = \"/kaggle/temp/project-DD/config/swin_config.yaml\"\n",
        "with open(f_name,\"r\") as f:\n",
        "    c = f.read()\n",
        "config = yaml.safe_load(c)\n",
        "print(config)"
      ]
    },
    {
      "cell_type": "code",
      "execution_count": 2,
      "metadata": {},
      "outputs": [],
      "source": [
        "# MODEL_PATH = \"/content\"\n",
        "MODEL_PATH = f\"/kaggle/working/model.pt\""
      ]
    },
    {
      "cell_type": "code",
      "execution_count": null,
      "metadata": {
        "id": "RVFVAU3JDvSV"
      },
      "outputs": [],
      "source": [
        "trainer = Trainer(config      = config,\n",
        "                  IMAGE_PATH  = SRC_PATH,\n",
        "                  TARGET_PATH = TARGET_PATH,\n",
        "                  MODEL_PATH  = MODEL_PATH,\n",
        "                  device      = device)"
      ]
    },
    {
      "cell_type": "code",
      "execution_count": null,
      "metadata": {},
      "outputs": [],
      "source": [
        "def count_parameters(model):\n",
        "    return sum(p.numel() for p in model.parameters() if p.requires_grad)\n",
        "\n",
        "print(f'Total parameters: {count_parameters(trainer.model)}')"
      ]
    },
    {
      "cell_type": "code",
      "execution_count": null,
      "metadata": {
        "colab": {
          "base_uri": "https://localhost:8080/"
        },
        "id": "mTI7IzybF5Tp",
        "outputId": "e68155b7-7b07-4c4d-db15-5b70c9c41711"
      },
      "outputs": [],
      "source": [
        "trainer.train()"
      ]
    }
  ],
  "metadata": {
    "colab": {
      "include_colab_link": true,
      "provenance": []
    },
    "kernelspec": {
      "display_name": "pytorchenv",
      "language": "python",
      "name": "python3"
    },
    "language_info": {
      "codemirror_mode": {
        "name": "ipython",
        "version": 3
      },
      "file_extension": ".py",
      "mimetype": "text/x-python",
      "name": "python",
      "nbconvert_exporter": "python",
      "pygments_lexer": "ipython3",
      "version": "3.9.16"
    },
    "orig_nbformat": 4
  },
  "nbformat": 4,
  "nbformat_minor": 0
}
