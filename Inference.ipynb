{
  "cells": [
    {
      "cell_type": "markdown",
      "metadata": {
        "id": "E02GG6fNrGYB"
      },
      "source": [
        "## Import"
      ]
    },
    {
      "cell_type": "code",
      "execution_count": 1,
      "metadata": {
        "id": "zcgRE8IzDvSU"
      },
      "outputs": [],
      "source": [
        "import torch"
      ]
    },
    {
      "cell_type": "code",
      "execution_count": 2,
      "metadata": {
        "id": "VL6OTVy5rGYR"
      },
      "outputs": [
        {
          "name": "stderr",
          "output_type": "stream",
          "text": [
            "c:\\Users\\vodin\\.conda\\envs\\pytorchenv\\lib\\site-packages\\torchvision\\io\\image.py:11: UserWarning: Failed to load image Python extension: Could not find module 'C:\\Users\\vodin\\.conda\\envs\\pytorchenv\\Lib\\site-packages\\torchvision\\image.pyd' (or one of its dependencies). Try using the full path with constructor syntax.\n",
            "  warn(f\"Failed to load image Python extension: {e}\")\n"
          ]
        }
      ],
      "source": [
        "from src.utils.inference import Inference\n",
        "from PIL import Image\n",
        "import matplotlib.pyplot as plt\n",
        "import os\n",
        "import torch"
      ]
    },
    {
      "cell_type": "code",
      "execution_count": 3,
      "metadata": {
        "id": "vT8K63sOrGYN"
      },
      "outputs": [],
      "source": [
        "SRC_PATH = \"public_test_data/new_public_test\"\n",
        "MODEL_PATH = \"model_weights/model_swin_transformer_v2_100.pt\""
      ]
    },
    {
      "cell_type": "markdown",
      "metadata": {
        "id": "tXTdg6FvrGYR"
      },
      "source": [
        "## Predict"
      ]
    },
    {
      "cell_type": "code",
      "execution_count": 4,
      "metadata": {
        "id": "3z0lbnjFrGYS"
      },
      "outputs": [
        {
          "name": "stdout",
          "output_type": "stream",
          "text": [
            "{'transformer': {'embed_size': 384, 'num_heads': 8, 'num_layers': 4, 'max_len': 320, 'dropout': 0.1, 'bias': False, 'embed_type': 'position'}, 'encoder': {'type': 'swin_transformer_v2', 'swin': {'img_size': (64, 256), 'embed_dim': 96, 'window_size': 8, 'in_channels': 3, 'dropout': 0.1, 'depths': [2, 6, 2], 'num_heads': [6, 12, 24]}}, 'device': device(type='cuda', index=0), 'lr': 0.0001, 'scheduler': {'active': True, 'first_cycle_steps': 1600, 'cycle_mult': 1, 'max_lr': 0.0005, 'min_lr': 3e-05, 'warmup_steps': 160, 'gamma': 0.975}, 'dataloader': {'num_workers': 0}, 'max_grad_norm': 0.5, 'batch_size': 64, 'num_epochs': 100, 'save_per_epochs': 1, 'print_type': 'per_epoch'}\n"
          ]
        },
        {
          "name": "stderr",
          "output_type": "stream",
          "text": [
            "c:\\Users\\vodin\\.conda\\envs\\pytorchenv\\lib\\site-packages\\torch\\functional.py:445: UserWarning: torch.meshgrid: in an upcoming release, it will be required to pass the indexing argument. (Triggered internally at  ..\\aten\\src\\ATen\\native\\TensorShape.cpp:2157.)\n",
            "  return _VF.meshgrid(tensors, **kwargs)  # type: ignore[attr-defined]\n"
          ]
        }
      ],
      "source": [
        "infer = Inference(MODEL_PATH   = MODEL_PATH)"
      ]
    },
    {
      "cell_type": "code",
      "execution_count": 5,
      "metadata": {
        "id": "GnkvwEknrGYS"
      },
      "outputs": [
        {
          "name": "stdout",
          "output_type": "stream",
          "text": [
            "| Evaluating: [###################]  100.00% | ETA:     0.0s | Done!\n",
            "{'public_test_img_10363.jpg': 'Phấn'}\n"
          ]
        },
        {
          "data": {
            "text/plain": [
              "<matplotlib.image.AxesImage at 0x1e731274af0>"
            ]
          },
          "execution_count": 5,
          "metadata": {},
          "output_type": "execute_result"
        },
        {
          "data": {
            "image/png": "[encoded data removed]",
            "text/plain": [
              "<Figure size 432x288 with 1 Axes>"
            ]
          },
          "metadata": {
            "needs_background": "light"
          },
          "output_type": "display_data"
        }
      ],
      "source": [
        "idx = torch.randint(1000,())\n",
        "img = Image.open(os.path.join(SRC_PATH,os.listdir(SRC_PATH)[idx]))\n",
        "infer.model.eval()\n",
        "print(infer.predict(SRC_PATH,[os.listdir(SRC_PATH)[idx]]))\n",
        "plt.imshow(img)"
      ]
    },
    {
      "cell_type": "code",
      "execution_count": 6,
      "metadata": {},
      "outputs": [
        {
          "name": "stdout",
          "output_type": "stream",
          "text": [
            "| Evaluating: [###################]  100.00% | ETA:     0.0s | Done!\n",
            "Prediction save to: prediction.txt\n"
          ]
        }
      ],
      "source": [
        "pred = infer.predict(SRC_PATH,os.listdir(SRC_PATH),batch_size=200,save=True)"
      ]
    },
    {
      "cell_type": "code",
      "execution_count": 16,
      "metadata": {},
      "outputs": [
        {
          "data": {
            "image/png": "[encoded data removed]",
            "text/plain": [
              "<PIL.JpegImagePlugin.JpegImageFile image mode=RGB size=166x61>"
            ]
          },
          "execution_count": 16,
          "metadata": {},
          "output_type": "execute_result"
        }
      ],
      "source": [
        "Image.open(os.path.join(SRC_PATH,\"public_test_img_10929.jpg\"))"
      ]
    },
    {
      "cell_type": "code",
      "execution_count": null,
      "metadata": {},
      "outputs": [],
      "source": []
    }
  ],
  "metadata": {
    "accelerator": "GPU",
    "colab": {
      "provenance": []
    },
    "kernelspec": {
      "display_name": "Python 3",
      "name": "python3"
    },
    "language_info": {
      "codemirror_mode": {
        "name": "ipython",
        "version": 3
      },
      "file_extension": ".py",
      "mimetype": "text/x-python",
      "name": "python",
      "nbconvert_exporter": "python",
      "pygments_lexer": "ipython3",
      "version": "3.9.16"
    }
  },
  "nbformat": 4,
  "nbformat_minor": 0
}
