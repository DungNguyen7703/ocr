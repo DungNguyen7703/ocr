{
  "cells": [
    {
      "cell_type": "markdown",
      "metadata": {
        "id": "E02GG6fNrGYB"
      },
      "source": [
        "## Import"
      ]
    },
    {
      "cell_type": "code",
      "execution_count": null,
      "metadata": {
        "id": "LWoBZTCwD9qN"
      },
      "outputs": [],
      "source": [
        "!gdown 17tHiKLJ9w8q6hrZNaChXjW5BjeUU5Cpf # public test data\n",
        "!gdown 1MQSDkZOGHsOBHKqFb4TlB5CIvkvaYGE7 # model weight"
      ]
    },
    {
      "cell_type": "code",
      "execution_count": null,
      "metadata": {
        "id": "J6fd6s3Sy8Fc"
      },
      "outputs": [],
      "source": [
        "!unzip -q /content/public_test_data.zip"
      ]
    },
    {
      "cell_type": "code",
      "execution_count": null,
      "metadata": {
        "id": "zcgRE8IzDvSU"
      },
      "outputs": [],
      "source": [
        "import torch"
      ]
    },
    {
      "cell_type": "code",
      "execution_count": null,
      "metadata": {
        "id": "Izd7jZGSDvSS"
      },
      "outputs": [],
      "source": [
        "!git clone https://github.com/datvodinh10/project-DD.git\n",
        "%cd project-DD"
      ]
    },
    {
      "cell_type": "code",
      "execution_count": null,
      "metadata": {
        "id": "VL6OTVy5rGYR"
      },
      "outputs": [],
      "source": [
        "from src.utils.inference import Inference\n",
        "from PIL import Image\n",
        "import matplotlib.pyplot as plt\n",
        "import os\n",
        "import torch"
      ]
    },
    {
      "cell_type": "code",
      "execution_count": null,
      "metadata": {
        "id": "85mysfcNEk5v"
      },
      "outputs": [],
      "source": [
        "%cd .."
      ]
    },
    {
      "cell_type": "code",
      "execution_count": null,
      "metadata": {
        "id": "vT8K63sOrGYN"
      },
      "outputs": [],
      "source": [
        "SRC_PATH = \"/content/new_public_test\"\n",
        "MODEL_PATH = \"/content/model_resnet50_150.pt\"\n",
        "# SRC_PATH = \"/kaggle/working/new_train\"\n",
        "# TARGET_PATH = \"/kaggle/working/train_gt.txt\"\n",
        "# MODEL_PATH = \"./data\""
      ]
    },
    {
      "cell_type": "markdown",
      "metadata": {
        "id": "tXTdg6FvrGYR"
      },
      "source": [
        "## Predict"
      ]
    },
    {
      "cell_type": "code",
      "execution_count": null,
      "metadata": {
        "id": "3z0lbnjFrGYS"
      },
      "outputs": [],
      "source": [
        "infer = Inference(MODEL_PATH   = MODEL_PATH)"
      ]
    },
    {
      "cell_type": "code",
      "execution_count": null,
      "metadata": {
        "id": "GnkvwEknrGYS"
      },
      "outputs": [],
      "source": [
        "idx = torch.randint(1000,())\n",
        "img = Image.open(os.path.join(SRC_PATH,os.listdir(SRC_PATH)[idx]))\n",
        "infer.model.eval()\n",
        "print(infer.predict(img))\n",
        "plt.imshow(img)"
      ]
    },
    {
      "cell_type": "code",
      "source": [
        "os.listdir(SRC_PATH)[idx]"
      ],
      "metadata": {
        "id": "bkoo2-ic22cs"
      },
      "execution_count": null,
      "outputs": []
    },
    {
      "cell_type": "code",
      "source": [
        "Image.open(os.path.join(SRC_PATH,os.listdir(SRC_PATH)[idx])).save(os.listdir(SRC_PATH)[idx])"
      ],
      "metadata": {
        "id": "q0i9dO-x28X9"
      },
      "execution_count": null,
      "outputs": []
    },
    {
      "cell_type": "code",
      "source": [
        "pred = []\n",
        "i = 0\n",
        "for f in os.listdir(SRC_PATH):\n",
        "  img = Image.open(os.path.join(SRC_PATH,f))\n",
        "  pred.append(f\"{f} {infer.predict(img)}\")\n",
        "  i+=1\n",
        "  if i%1000==0:\n",
        "    print(i)\n"
      ],
      "metadata": {
        "id": "60KqaBSncB5G"
      },
      "execution_count": null,
      "outputs": []
    },
    {
      "cell_type": "code",
      "source": [
        "file_name = \"prediction.txt\"\n",
        "\n",
        "# Open the file in write mode and write the words to it\n",
        "with open(file_name, \"w\") as file:\n",
        "    for word in pred:\n",
        "        file.write(word + \"\\n\")"
      ],
      "metadata": {
        "id": "LmGGX577dDYq"
      },
      "execution_count": null,
      "outputs": []
    }
  ],
  "metadata": {
    "accelerator": "GPU",
    "colab": {
      "provenance": []
    },
    "kernelspec": {
      "display_name": "Python 3",
      "name": "python3"
    },
    "language_info": {
      "codemirror_mode": {
        "name": "ipython",
        "version": 3
      },
      "file_extension": ".py",
      "mimetype": "text/x-python",
      "name": "python",
      "nbconvert_exporter": "python",
      "pygments_lexer": "ipython3",
      "version": "3.9.16"
    }
  },
  "nbformat": 4,
  "nbformat_minor": 0
}