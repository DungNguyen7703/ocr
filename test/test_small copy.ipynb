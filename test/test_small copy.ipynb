{
  "cells": [
    {
      "cell_type": "markdown",
      "metadata": {
        "colab_type": "text",
        "id": "view-in-github"
      },
      "source": [
        "<a href=\"https://colab.research.google.com/github/datvodinh10/project-DD/blob/master/main.ipynb\" target=\"_parent\"><img src=\"https://colab.research.google.com/assets/colab-badge.svg\" alt=\"Open In Colab\"/></a>"
      ]
    },
    {
      "cell_type": "markdown",
      "metadata": {},
      "source": [
        "## Import"
      ]
    },
    {
      "cell_type": "code",
      "execution_count": 1,
      "metadata": {},
      "outputs": [],
      "source": [
        "import torch"
      ]
    },
    {
      "cell_type": "code",
      "execution_count": 2,
      "metadata": {
        "id": "bGym2TwrDvSU"
      },
      "outputs": [
        {
          "name": "stderr",
          "output_type": "stream",
          "text": [
            "c:\\Users\\vodin\\.conda\\envs\\pytorchenv\\lib\\site-packages\\torchvision\\io\\image.py:11: UserWarning: Failed to load image Python extension: Could not find module 'C:\\Users\\vodin\\.conda\\envs\\pytorchenv\\Lib\\site-packages\\torchvision\\image.pyd' (or one of its dependencies). Try using the full path with constructor syntax.\n",
            "  warn(f\"Failed to load image Python extension: {e}\")\n"
          ]
        }
      ],
      "source": [
        "from src.model.trainer import Trainer"
      ]
    },
    {
      "cell_type": "markdown",
      "metadata": {},
      "source": [
        "## Train"
      ]
    },
    {
      "cell_type": "code",
      "execution_count": null,
      "metadata": {},
      "outputs": [],
      "source": []
    },
    {
      "cell_type": "code",
      "execution_count": 3,
      "metadata": {},
      "outputs": [],
      "source": [
        "device = torch.device('cuda:0' if torch.cuda.is_available() else 'cpu')"
      ]
    },
    {
      "cell_type": "code",
      "execution_count": 4,
      "metadata": {
        "id": "VmszHHmlDvSV"
      },
      "outputs": [],
      "source": [
        "config = {\n",
        "    'transformer':{\n",
        "        'embed_size': 384,      # model's hidden size\n",
        "        'num_heads':6,          # number of heads in MSA\n",
        "        'num_layers':2,         # number of encoder/decoder layer\n",
        "        'max_len': 10_000,      # max sequence length\n",
        "        'dropout':0.2,          # dropout rate\n",
        "        'bias':False,           # attention bias\n",
        "        'embed_type': 'learned' # {'position','learned'}\n",
        "\n",
        "    },\n",
        "    'encoder':{\n",
        "        'type': 'swin_transformer', # {'resnet18','resnet50,'vgg','swin_transformer','vision_transformer'}\n",
        "        \n",
        "        'ViT':{\n",
        "            'patch_size': 16,\n",
        "        },\n",
        "        \n",
        "        'swin':{\n",
        "            'img_size':(64,128),\n",
        "            'embed_dim':48,\n",
        "            'window_size':8\n",
        "        },\n",
        "    },\n",
        "    \n",
        "    'device':device,\n",
        "    'lr':1e-4,\n",
        "    'batch_size':1,\n",
        "    'num_epochs':500,\n",
        "    'preprocessing': 'none'\n",
        "}"
      ]
    },
    {
      "cell_type": "code",
      "execution_count": 5,
      "metadata": {
        "id": "RVFVAU3JDvSV"
      },
      "outputs": [
        {
          "name": "stderr",
          "output_type": "stream",
          "text": [
            "c:\\Users\\vodin\\.conda\\envs\\pytorchenv\\lib\\site-packages\\torch\\functional.py:445: UserWarning: torch.meshgrid: in an upcoming release, it will be required to pass the indexing argument. (Triggered internally at  ..\\aten\\src\\ATen\\native\\TensorShape.cpp:2157.)\n",
            "  return _VF.meshgrid(tensors, **kwargs)  # type: ignore[attr-defined]\n"
          ]
        }
      ],
      "source": [
        "trainer = Trainer(config      = config,\n",
        "                  IMAGE_PATH  = \"C:/Users/vodin/project-DD/preprocess\",\n",
        "                  TARGET_PATH = \"C:/Users/vodin/Downloads/train_gt.txt\")"
      ]
    },
    {
      "cell_type": "code",
      "execution_count": 6,
      "metadata": {},
      "outputs": [
        {
          "name": "stdout",
          "output_type": "stream",
          "text": [
            "Total parameters: 23384864\n"
          ]
        }
      ],
      "source": [
        "def count_parameters(model):\n",
        "    return sum(p.numel() for p in model.parameters() if p.requires_grad)\n",
        "\n",
        "print(f'Total parameters: {count_parameters(trainer.model)}')"
      ]
    },
    {
      "cell_type": "code",
      "execution_count": 7,
      "metadata": {
        "colab": {
          "base_uri": "https://localhost:8080/"
        },
        "id": "mTI7IzybF5Tp",
        "outputId": "e68155b7-7b07-4c4d-db15-5b70c9c41711"
      },
      "outputs": [
        {
          "name": "stdout",
          "output_type": "stream",
          "text": [
            "| Epoch   0 / 500: [ ################### ]  100.00% | Loss: 4.1278 | ETA:     0.0s | \n",
            "| Epoch   1 / 500: [ ################--- ]   85.50% | Loss: 3.9172 | ETA:     3.8s | "
          ]
        },
        {
          "ename": "KeyboardInterrupt",
          "evalue": "",
          "output_type": "error",
          "traceback": [
            "\u001b[1;31m---------------------------------------------------------------------------\u001b[0m",
            "\u001b[1;31mKeyboardInterrupt\u001b[0m                         Traceback (most recent call last)",
            "\u001b[1;32m~\\AppData\\Local\\Temp/ipykernel_12700/4032920361.py\u001b[0m in \u001b[0;36m<module>\u001b[1;34m\u001b[0m\n\u001b[1;32m----> 1\u001b[1;33m \u001b[0mtrainer\u001b[0m\u001b[1;33m.\u001b[0m\u001b[0mtrain\u001b[0m\u001b[1;33m(\u001b[0m\u001b[1;33m)\u001b[0m\u001b[1;33m\u001b[0m\u001b[1;33m\u001b[0m\u001b[0m\n\u001b[0m",
            "\u001b[1;32mc:\\Users\\vodin\\project-DD\\src\\model\\trainer.py\u001b[0m in \u001b[0;36mtrain\u001b[1;34m(self)\u001b[0m\n\u001b[0;32m     43\u001b[0m                 \u001b[0mloss\u001b[0m           \u001b[1;33m=\u001b[0m \u001b[0mself\u001b[0m\u001b[1;33m.\u001b[0m\u001b[0mcriterion\u001b[0m\u001b[1;33m(\u001b[0m\u001b[0mlogits\u001b[0m\u001b[1;33m[\u001b[0m\u001b[0moutput_padding\u001b[0m\u001b[1;33m!=\u001b[0m\u001b[1;36m0\u001b[0m\u001b[1;33m]\u001b[0m\u001b[1;33m,\u001b[0m\u001b[0mtarget_output\u001b[0m\u001b[1;33m[\u001b[0m\u001b[0moutput_padding\u001b[0m\u001b[1;33m!=\u001b[0m\u001b[1;36m0\u001b[0m\u001b[1;33m]\u001b[0m\u001b[1;33m)\u001b[0m\u001b[1;33m\u001b[0m\u001b[1;33m\u001b[0m\u001b[0m\n\u001b[0;32m     44\u001b[0m                 \u001b[0mself\u001b[0m\u001b[1;33m.\u001b[0m\u001b[0moptimizer\u001b[0m\u001b[1;33m.\u001b[0m\u001b[0mzero_grad\u001b[0m\u001b[1;33m(\u001b[0m\u001b[1;33m)\u001b[0m\u001b[1;33m\u001b[0m\u001b[1;33m\u001b[0m\u001b[0m\n\u001b[1;32m---> 45\u001b[1;33m                 \u001b[0mloss\u001b[0m\u001b[1;33m.\u001b[0m\u001b[0mbackward\u001b[0m\u001b[1;33m(\u001b[0m\u001b[1;33m)\u001b[0m\u001b[1;33m\u001b[0m\u001b[1;33m\u001b[0m\u001b[0m\n\u001b[0m\u001b[0;32m     46\u001b[0m                 \u001b[0mself\u001b[0m\u001b[1;33m.\u001b[0m\u001b[0moptimizer\u001b[0m\u001b[1;33m.\u001b[0m\u001b[0mstep\u001b[0m\u001b[1;33m(\u001b[0m\u001b[1;33m)\u001b[0m\u001b[1;33m\u001b[0m\u001b[1;33m\u001b[0m\u001b[0m\n\u001b[0;32m     47\u001b[0m                 \u001b[0midx\u001b[0m\u001b[1;33m+=\u001b[0m\u001b[1;36m1\u001b[0m\u001b[1;33m\u001b[0m\u001b[1;33m\u001b[0m\u001b[0m\n",
            "\u001b[1;32mc:\\Users\\vodin\\.conda\\envs\\pytorchenv\\lib\\site-packages\\torch\\_tensor.py\u001b[0m in \u001b[0;36mbackward\u001b[1;34m(self, gradient, retain_graph, create_graph, inputs)\u001b[0m\n\u001b[0;32m    305\u001b[0m                 \u001b[0mcreate_graph\u001b[0m\u001b[1;33m=\u001b[0m\u001b[0mcreate_graph\u001b[0m\u001b[1;33m,\u001b[0m\u001b[1;33m\u001b[0m\u001b[1;33m\u001b[0m\u001b[0m\n\u001b[0;32m    306\u001b[0m                 inputs=inputs)\n\u001b[1;32m--> 307\u001b[1;33m         \u001b[0mtorch\u001b[0m\u001b[1;33m.\u001b[0m\u001b[0mautograd\u001b[0m\u001b[1;33m.\u001b[0m\u001b[0mbackward\u001b[0m\u001b[1;33m(\u001b[0m\u001b[0mself\u001b[0m\u001b[1;33m,\u001b[0m \u001b[0mgradient\u001b[0m\u001b[1;33m,\u001b[0m \u001b[0mretain_graph\u001b[0m\u001b[1;33m,\u001b[0m \u001b[0mcreate_graph\u001b[0m\u001b[1;33m,\u001b[0m \u001b[0minputs\u001b[0m\u001b[1;33m=\u001b[0m\u001b[0minputs\u001b[0m\u001b[1;33m)\u001b[0m\u001b[1;33m\u001b[0m\u001b[1;33m\u001b[0m\u001b[0m\n\u001b[0m\u001b[0;32m    308\u001b[0m \u001b[1;33m\u001b[0m\u001b[0m\n\u001b[0;32m    309\u001b[0m     \u001b[1;32mdef\u001b[0m \u001b[0mregister_hook\u001b[0m\u001b[1;33m(\u001b[0m\u001b[0mself\u001b[0m\u001b[1;33m,\u001b[0m \u001b[0mhook\u001b[0m\u001b[1;33m)\u001b[0m\u001b[1;33m:\u001b[0m\u001b[1;33m\u001b[0m\u001b[1;33m\u001b[0m\u001b[0m\n",
            "\u001b[1;32mc:\\Users\\vodin\\.conda\\envs\\pytorchenv\\lib\\site-packages\\torch\\autograd\\__init__.py\u001b[0m in \u001b[0;36mbackward\u001b[1;34m(tensors, grad_tensors, retain_graph, create_graph, grad_variables, inputs)\u001b[0m\n\u001b[0;32m    152\u001b[0m         \u001b[0mretain_graph\u001b[0m \u001b[1;33m=\u001b[0m \u001b[0mcreate_graph\u001b[0m\u001b[1;33m\u001b[0m\u001b[1;33m\u001b[0m\u001b[0m\n\u001b[0;32m    153\u001b[0m \u001b[1;33m\u001b[0m\u001b[0m\n\u001b[1;32m--> 154\u001b[1;33m     Variable._execution_engine.run_backward(\n\u001b[0m\u001b[0;32m    155\u001b[0m         \u001b[0mtensors\u001b[0m\u001b[1;33m,\u001b[0m \u001b[0mgrad_tensors_\u001b[0m\u001b[1;33m,\u001b[0m \u001b[0mretain_graph\u001b[0m\u001b[1;33m,\u001b[0m \u001b[0mcreate_graph\u001b[0m\u001b[1;33m,\u001b[0m \u001b[0minputs\u001b[0m\u001b[1;33m,\u001b[0m\u001b[1;33m\u001b[0m\u001b[1;33m\u001b[0m\u001b[0m\n\u001b[0;32m    156\u001b[0m         allow_unreachable=True, accumulate_grad=True)  # allow_unreachable flag\n",
            "\u001b[1;31mKeyboardInterrupt\u001b[0m: "
          ]
        }
      ],
      "source": [
        "trainer.train()"
      ]
    },
    {
      "cell_type": "code",
      "execution_count": null,
      "metadata": {},
      "outputs": [
        {
          "name": "stdout",
          "output_type": "stream",
          "text": [
            "a 10.00\n"
          ]
        }
      ],
      "source": [
        "a = 10\n",
        "print(f\"a {a:5.2f}\")"
      ]
    },
    {
      "cell_type": "code",
      "execution_count": null,
      "metadata": {},
      "outputs": [],
      "source": [
        "import time"
      ]
    },
    {
      "cell_type": "code",
      "execution_count": null,
      "metadata": {},
      "outputs": [
        {
          "name": "stdout",
          "output_type": "stream",
          "text": [
            "1.0010227000000214\n"
          ]
        }
      ],
      "source": [
        "a = time.perf_counter()\n",
        "time.sleep(1)\n",
        "print(time.perf_counter() - a)"
      ]
    },
    {
      "cell_type": "code",
      "execution_count": null,
      "metadata": {
        "id": "suJim51WF9Rj"
      },
      "outputs": [],
      "source": [
        "save_dict = {\n",
        "    'state_dict':trainer.model.state_dict(),\n",
        "    'config':config,\n",
        "    'vocab_size':trainer.vocabulary.vocab_size\n",
        "}\n",
        "file_path = 'model.pth'\n",
        "torch.save(save_dict, file_path)"
      ]
    },
    {
      "cell_type": "markdown",
      "metadata": {},
      "source": [
        "## Predict"
      ]
    },
    {
      "cell_type": "code",
      "execution_count": null,
      "metadata": {},
      "outputs": [],
      "source": [
        "from src.utils.inference import Inference\n",
        "from src.utils.transform import Transform\n",
        "from PIL import Image\n",
        "import os\n",
        "import torch\n",
        "import matplotlib.pyplot as plt"
      ]
    },
    {
      "cell_type": "code",
      "execution_count": null,
      "metadata": {},
      "outputs": [],
      "source": [
        "infer = Inference(DATA_PATH   = 'model.pth',\n",
        "                  TARGET_PATH = \"C:/Users/vodin/Downloads/train_gt.txt\")"
      ]
    },
    {
      "cell_type": "code",
      "execution_count": null,
      "metadata": {},
      "outputs": [],
      "source": [
        "T = Transform('none')"
      ]
    },
    {
      "cell_type": "code",
      "execution_count": null,
      "metadata": {},
      "outputs": [],
      "source": [
        "device = torch.device('cuda:0' if torch.cuda.is_available() else 'cpu')"
      ]
    },
    {
      "cell_type": "code",
      "execution_count": null,
      "metadata": {},
      "outputs": [
        {
          "data": {
            "text/plain": [
              "'HIM'"
            ]
          },
          "execution_count": 45,
          "metadata": {},
          "output_type": "execute_result"
        }
      ],
      "source": [
        "idx = torch.randint(200,())\n",
        "img = Image.open(os.path.join(\"C:/Users/vodin/project-DD/preprocess\",os.listdir(\"C:/Users/vodin/project-DD/preprocess\")[idx]))\n",
        "infer.predict(T(img).unsqueeze(0).to(device))"
      ]
    },
    {
      "cell_type": "code",
      "execution_count": null,
      "metadata": {},
      "outputs": [
        {
          "data": {
            "text/plain": [
              "<matplotlib.image.AxesImage at 0x1df9ed90fd0>"
            ]
          },
          "execution_count": 46,
          "metadata": {},
          "output_type": "execute_result"
        },
        {
          "data": {
            "image/png": "[encoded data removed]",
            "text/plain": [
              "<Figure size 432x288 with 1 Axes>"
            ]
          },
          "metadata": {
            "needs_background": "light"
          },
          "output_type": "display_data"
        }
      ],
      "source": [
        "plt.imshow(T(img).permute(1,2,0))"
      ]
    },
    {
      "cell_type": "code",
      "execution_count": null,
      "metadata": {},
      "outputs": [
        {
          "name": "stdout",
          "output_type": "stream",
          "text": [
            "Epoch 1/5\n",
            "====================\n",
            "1/10 - 10.00% - ('Batch 1/10',)\n",
            "2/10 - 20.00% - ('Batch 2/10',)\n",
            "3/10 - 30.00% - ('Batch 3/10',)\n",
            "4/10 - 40.00% - ('Batch 4/10',)\n",
            "5/10 - 50.00% - ('Batch 5/10',)\n",
            "6/10 - 60.00% - ('Batch 6/10',)\n",
            "7/10 - 70.00% - ('Batch 7/10',)\n",
            "8/10 - 80.00% - ('Batch 8/10',)\n",
            "9/10 - 90.00% - ('Batch 9/10',)\n",
            "10/10 - 100.00% - ('Batch 10/10',)\n",
            "====================\n",
            "Epoch completed\n",
            "\n",
            "Epoch 2/5\n",
            "====================\n",
            "1/10 - 10.00% - ('Batch 1/10',)\n",
            "2/10 - 20.00% - ('Batch 2/10',)\n",
            "3/10 - 30.00% - ('Batch 3/10',)\n",
            "4/10 - 40.00% - ('Batch 4/10',)\n",
            "5/10 - 50.00% - ('Batch 5/10',)\n",
            "6/10 - 60.00% - ('Batch 6/10',)\n",
            "7/10 - 70.00% - ('Batch 7/10',)\n",
            "8/10 - 80.00% - ('Batch 8/10',)\n",
            "9/10 - 90.00% - ('Batch 9/10',)\n",
            "10/10 - 100.00% - ('Batch 10/10',)\n",
            "====================\n",
            "Epoch completed\n",
            "\n",
            "Epoch 3/5\n",
            "====================\n",
            "1/10 - 10.00% - ('Batch 1/10',)\n",
            "2/10 - 20.00% - ('Batch 2/10',)\n",
            "3/10 - 30.00% - ('Batch 3/10',)\n",
            "4/10 - 40.00% - ('Batch 4/10',)\n",
            "5/10 - 50.00% - ('Batch 5/10',)\n",
            "6/10 - 60.00% - ('Batch 6/10',)\n",
            "7/10 - 70.00% - ('Batch 7/10',)\n",
            "8/10 - 80.00% - ('Batch 8/10',)\n",
            "9/10 - 90.00% - ('Batch 9/10',)\n",
            "10/10 - 100.00% - ('Batch 10/10',)\n",
            "====================\n",
            "Epoch completed\n",
            "\n",
            "Epoch 4/5\n",
            "====================\n",
            "1/10 - 10.00% - ('Batch 1/10',)\n",
            "2/10 - 20.00% - ('Batch 2/10',)\n",
            "3/10 - 30.00% - ('Batch 3/10',)\n",
            "4/10 - 40.00% - ('Batch 4/10',)\n",
            "5/10 - 50.00% - ('Batch 5/10',)\n",
            "6/10 - 60.00% - ('Batch 6/10',)\n",
            "7/10 - 70.00% - ('Batch 7/10',)\n",
            "8/10 - 80.00% - ('Batch 8/10',)\n",
            "9/10 - 90.00% - ('Batch 9/10',)\n",
            "10/10 - 100.00% - ('Batch 10/10',)\n",
            "====================\n",
            "Epoch completed\n",
            "\n",
            "Epoch 5/5\n",
            "====================\n",
            "1/10 - 10.00% - ('Batch 1/10',)\n",
            "2/10 - 20.00% - ('Batch 2/10',)\n",
            "3/10 - 30.00% - ('Batch 3/10',)\n",
            "4/10 - 40.00% - ('Batch 4/10',)\n",
            "5/10 - 50.00% - ('Batch 5/10',)\n",
            "6/10 - 60.00% - ('Batch 6/10',)\n",
            "7/10 - 70.00% - ('Batch 7/10',)\n",
            "8/10 - 80.00% - ('Batch 8/10',)\n",
            "9/10 - 90.00% - ('Batch 9/10',)\n",
            "10/10 - 100.00% - ('Batch 10/10',)\n",
            "====================\n",
            "Epoch completed\n",
            "\n"
          ]
        }
      ],
      "source": [
        "import time\n",
        "\n",
        "def custom_fit(generator, steps_per_epoch, epochs):\n",
        "    for epoch in range(1, epochs + 1):\n",
        "        print(f\"Epoch {epoch}/{epochs}\")\n",
        "        print(\"=\" * 20)\n",
        "        \n",
        "        for step in range(1, steps_per_epoch + 1):\n",
        "            time.sleep(0.1)  # Simulating some processing time\n",
        "            \n",
        "            # Generate fake batch data (replace this with actual data generation)\n",
        "            batch_data = (f\"Batch {step}/{steps_per_epoch}\",)\n",
        "            \n",
        "            # Update progress\n",
        "            progress = (step / steps_per_epoch) * 100\n",
        "            print(f\"{step}/{steps_per_epoch} - {progress:.2f}% - \", end=\"\")\n",
        "            \n",
        "            # Print your custom information about the current batch (replace with actual information)\n",
        "            print(batch_data)\n",
        "        \n",
        "        print(\"=\" * 20)\n",
        "        print(\"Epoch completed\\n\")\n",
        "        time.sleep(0.5)  # Simulating some processing time\n",
        "\n",
        "# Example usage\n",
        "custom_fit(generator=None, steps_per_epoch=10, epochs=5)\n"
      ]
    },
    {
      "cell_type": "code",
      "execution_count": null,
      "metadata": {},
      "outputs": [],
      "source": []
    }
  ],
  "metadata": {
    "colab": {
      "include_colab_link": true,
      "provenance": []
    },
    "kernelspec": {
      "display_name": "pytorchenv",
      "language": "python",
      "name": "python3"
    },
    "language_info": {
      "codemirror_mode": {
        "name": "ipython",
        "version": 3
      },
      "file_extension": ".py",
      "mimetype": "text/x-python",
      "name": "python",
      "nbconvert_exporter": "python",
      "pygments_lexer": "ipython3",
      "version": "3.9.16"
    },
    "orig_nbformat": 4
  },
  "nbformat": 4,
  "nbformat_minor": 0
}
