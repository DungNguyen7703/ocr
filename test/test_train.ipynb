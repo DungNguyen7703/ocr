{
  "cells": [
    {
      "cell_type": "markdown",
      "metadata": {
        "colab_type": "text",
        "id": "view-in-github"
      },
      "source": [
        "<a href=\"https://colab.research.google.com/github/datvodinh10/project-DD/blob/master/main.ipynb\" target=\"_parent\"><img src=\"https://colab.research.google.com/assets/colab-badge.svg\" alt=\"Open In Colab\"/></a>"
      ]
    },
    {
      "cell_type": "markdown",
      "metadata": {},
      "source": [
        "## Import"
      ]
    },
    {
      "cell_type": "code",
      "execution_count": 1,
      "metadata": {},
      "outputs": [
        {
          "name": "stdout",
          "output_type": "stream",
          "text": [
            "c:\\Users\\vodin\\project-DD\n"
          ]
        }
      ],
      "source": [
        "%cd .."
      ]
    },
    {
      "cell_type": "code",
      "execution_count": 2,
      "metadata": {},
      "outputs": [],
      "source": [
        "import math\n",
        "import torch"
      ]
    },
    {
      "cell_type": "code",
      "execution_count": 3,
      "metadata": {
        "id": "bGym2TwrDvSU"
      },
      "outputs": [
        {
          "name": "stderr",
          "output_type": "stream",
          "text": [
            "c:\\Users\\vodin\\.conda\\envs\\pytorchenv\\lib\\site-packages\\torchvision\\io\\image.py:11: UserWarning: Failed to load image Python extension: Could not find module 'C:\\Users\\vodin\\.conda\\envs\\pytorchenv\\Lib\\site-packages\\torchvision\\image.pyd' (or one of its dependencies). Try using the full path with constructor syntax.\n",
            "  warn(f\"Failed to load image Python extension: {e}\")\n"
          ]
        }
      ],
      "source": [
        "from src.model.trainer import Trainer"
      ]
    },
    {
      "cell_type": "markdown",
      "metadata": {},
      "source": [
        "## Train"
      ]
    },
    {
      "cell_type": "code",
      "execution_count": 4,
      "metadata": {},
      "outputs": [
        {
          "data": {
            "text/plain": [
              "device(type='cuda', index=0)"
            ]
          },
          "execution_count": 4,
          "metadata": {},
          "output_type": "execute_result"
        }
      ],
      "source": [
        "device = torch.device('cuda:0' if torch.cuda.is_available() else 'cpu')\n",
        "device"
      ]
    },
    {
      "cell_type": "code",
      "execution_count": 5,
      "metadata": {
        "id": "VmszHHmlDvSV"
      },
      "outputs": [],
      "source": [
        "config = {\n",
        "    'transformer':{\n",
        "        'embed_size': 384,      # model's hidden size\n",
        "        'num_heads':8,          # number of heads in MSA\n",
        "        'num_layers':2,         # number of encoder/decoder layer\n",
        "        'max_len': 320,         # max sequence length\n",
        "        'dropout':0.1,          # dropout rate\n",
        "        'bias':False,           # attention bias\n",
        "        'embed_type': 'position'# {'position','learned'}\n",
        "\n",
        "    },\n",
        "    'encoder':{\n",
        "        'type': 'swin_transformer_v2', # {'swin_transformer','swin_transformer_v2','resnet18','resnet50,'vgg'}\n",
        "        'swin':{\n",
        "            'img_size':(64,256),\n",
        "            'embed_dim':48,\n",
        "            'window_size':8,\n",
        "            'in_channels':3,\n",
        "            'dropout':0.1,\n",
        "            'depths': [2,2,6,2],\n",
        "            'num_heads': [3,6,12,24]\n",
        "        },\n",
        "    },\n",
        "    \n",
        "    'device':device,\n",
        "    'lr':1e-4,\n",
        "    'scheduler': {    \n",
        "        'active':True,\n",
        "        'first_cycle_steps': 50,\n",
        "        'cycle_mult': 1,  \n",
        "        'max_lr': 6e-4,          \n",
        "        'min_lr': 5e-5,   \n",
        "        'warmup_steps': 10,      \n",
        "        'gamma': 0.9  \n",
        "    },\n",
        "    'dataloader':{\n",
        "        'num_workers':0,\n",
        "\n",
        "    },\n",
        "    'padding': True,\n",
        "    'max_grad_norm': 0.25,\n",
        "    'batch_size':50,\n",
        "    'num_epochs':200,\n",
        "    'save_per_epochs':10,\n",
        "    'print_type': 'per_batch' # {'per_epoch','per_batch'}\n",
        "}"
      ]
    },
    {
      "cell_type": "code",
      "execution_count": 6,
      "metadata": {},
      "outputs": [],
      "source": [
        "SRC_PATH = \"test/origin_200\"\n",
        "TARGET_PATH = \"test/train_gt.txt\"\n",
        "MODEL_PATH = \"data\"\n",
        "\n",
        "# SRC_PATH = \"/kaggle/working/new_train\"\n",
        "# TARGET_PATH = \"/kaggle/working/train_gt.txt\"\n",
        "# MODEL_PATH = \"./data\""
      ]
    },
    {
      "cell_type": "code",
      "execution_count": 7,
      "metadata": {
        "id": "RVFVAU3JDvSV"
      },
      "outputs": [
        {
          "name": "stdout",
          "output_type": "stream",
          "text": [
            "TRAIN FROM BEGINNING!\n"
          ]
        }
      ],
      "source": [
        "trainer = Trainer(config      = config,\n",
        "                  IMAGE_PATH  = SRC_PATH,\n",
        "                  TARGET_PATH = TARGET_PATH,\n",
        "                  MODEL_PATH = MODEL_PATH)"
      ]
    },
    {
      "cell_type": "code",
      "execution_count": 8,
      "metadata": {},
      "outputs": [
        {
          "name": "stdout",
          "output_type": "stream",
          "text": [
            "Total parameters: 11855512\n"
          ]
        }
      ],
      "source": [
        "def count_parameters(model):\n",
        "    return sum(p.numel() for p in model.parameters() if p.requires_grad)\n",
        "\n",
        "print(f'Total parameters: {count_parameters(trainer.model)}')"
      ]
    },
    {
      "cell_type": "code",
      "execution_count": 9,
      "metadata": {
        "colab": {
          "base_uri": "https://localhost:8080/"
        },
        "id": "mTI7IzybF5Tp",
        "outputId": "e68155b7-7b07-4c4d-db15-5b70c9c41711"
      },
      "outputs": [
        {
          "name": "stdout",
          "output_type": "stream",
          "text": [
            "| Epoch   1 / 200: [###################]  100.00% | Loss: 5.0969 | Acc:    6.79% | ETA:     0.0s | \n",
            "| Epoch   2 / 200: [###################]  100.00% | Loss: 4.2571 | Acc:   18.95% | ETA:     0.0s | \n",
            "| Epoch   3 / 200: [###################]  100.00% | Loss: 3.8548 | Acc:   20.00% | ETA:     0.0s | \n",
            "| Epoch   4 / 200: [###################]  100.00% | Loss: 3.5662 | Acc:   20.96% | ETA:     0.0s | \n",
            "| Epoch   5 / 200: [###################]  100.00% | Loss: 3.2644 | Acc:   24.40% | ETA:     0.0s | \n",
            "| Epoch   6 / 200: [###################]  100.00% | Loss: 3.0259 | Acc:   26.89% | ETA:     0.0s | \n",
            "| Epoch   7 / 200: [###################]  100.00% | Loss: 2.8622 | Acc:   29.28% | ETA:     0.0s | \n",
            "| Epoch   8 / 200: [###################]  100.00% | Loss: 2.7170 | Acc:   32.82% | ETA:     0.0s | \n",
            "| Epoch   9 / 200: [###################]  100.00% | Loss: 2.6166 | Acc:   33.97% | ETA:     0.0s | \n",
            "| Epoch  10 / 200: [###################]  100.00% | Loss: 2.5357 | Acc:   36.17% | ETA:     0.0s | \n",
            "| Epoch  11 / 200: [###################]  100.00% | Loss: 2.4796 | Acc:   36.65% | ETA:     0.0s | \n",
            "| Epoch  12 / 200: [###################]  100.00% | Loss: 2.4465 | Acc:   38.18% | ETA:     0.0s | \n",
            "| Epoch  13 / 200: [###################]  100.00% | Loss: 2.4243 | Acc:   37.89% | ETA:     0.0s | \n",
            "| Epoch  14 / 200: [###################]  100.00% | Loss: 2.4094 | Acc:   37.42% | ETA:     0.0s | \n",
            "| Epoch  15 / 200: [###################]  100.00% | Loss: 2.3609 | Acc:   36.94% | ETA:     0.0s | \n",
            "| Epoch  16 / 200: [###################]  100.00% | Loss: 2.2453 | Acc:   39.71% | ETA:     0.0s | \n",
            "| Epoch  17 / 200: [###################]  100.00% | Loss: 2.1282 | Acc:   43.73% | ETA:     0.0s | \n",
            "| Epoch  18 / 200: [###################]  100.00% | Loss: 2.0495 | Acc:   44.50% | ETA:     0.0s | \n",
            "| Epoch  19 / 200: [###################]  100.00% | Loss: 1.9703 | Acc:   47.18% | ETA:     0.0s | \n",
            "| Epoch  20 / 200: [###################]  100.00% | Loss: 1.9012 | Acc:   47.66% | ETA:     0.0s | \n",
            "| Epoch  21 / 200: [###################]  100.00% | Loss: 1.8226 | Acc:   50.14% | ETA:     0.0s | \n",
            "| Epoch  22 / 200: [###################]  100.00% | Loss: 1.8008 | Acc:   51.67% | ETA:     0.0s | \n",
            "| Epoch  23 / 200: [###################]  100.00% | Loss: 1.7510 | Acc:   53.21% | ETA:     0.0s | \n",
            "| Epoch  24 / 200: [###################]  100.00% | Loss: 1.7364 | Acc:   53.97% | ETA:     0.0s | \n",
            "| Epoch  25 / 200: [###################]  100.00% | Loss: 1.7079 | Acc:   54.45% | ETA:     0.0s | \n",
            "| Epoch  26 / 200: [###################]  100.00% | Loss: 1.6949 | Acc:   55.69% | ETA:     0.0s | \n",
            "| Epoch  27 / 200: [###################]  100.00% | Loss: 1.6835 | Acc:   55.69% | ETA:     0.0s | \n",
            "| Epoch  28 / 200: [###################]  100.00% | Loss: 1.6353 | Acc:   55.69% | ETA:     0.0s | \n",
            "| Epoch  29 / 200: [###################]  100.00% | Loss: 1.5784 | Acc:   58.56% | ETA:     0.0s | \n",
            "| Epoch  30 / 200: [###################]  100.00% | Loss: 1.5693 | Acc:   58.85% | ETA:     0.0s | \n",
            "| Epoch  31 / 200: [###################]  100.00% | Loss: 1.5056 | Acc:   58.76% | ETA:     0.0s | \n",
            "| Epoch  32 / 200: [###################]  100.00% | Loss: 1.4714 | Acc:   60.86% | ETA:     0.0s | \n",
            "| Epoch  33 / 200: [###################]  100.00% | Loss: 1.4473 | Acc:   60.10% | ETA:     0.0s | \n",
            "| Epoch  34 / 200: [###################]  100.00% | Loss: 1.3816 | Acc:   62.68% | ETA:     0.0s | \n",
            "| Epoch  35 / 200: [###################]  100.00% | Loss: 1.3640 | Acc:   63.64% | ETA:     0.0s | \n",
            "| Epoch  36 / 200: [###################]  100.00% | Loss: 1.3429 | Acc:   63.06% | ETA:     0.0s | \n",
            "| Epoch  37 / 200: [###################]  100.00% | Loss: 1.3231 | Acc:   64.11% | ETA:     0.0s | \n",
            "| Epoch  38 / 200: [###################]  100.00% | Loss: 1.3025 | Acc:   65.26% | ETA:     0.0s | \n",
            "| Epoch  39 / 200: [###################]  100.00% | Loss: 1.3199 | Acc:   66.12% | ETA:     0.0s | \n",
            "| Epoch  40 / 200: [###################]  100.00% | Loss: 1.2995 | Acc:   65.17% | ETA:     0.0s | \n",
            "| Epoch  41 / 200: [###################]  100.00% | Loss: 1.3036 | Acc:   65.74% | ETA:     0.0s | \n",
            "| Epoch  42 / 200: [###################]  100.00% | Loss: 1.2936 | Acc:   63.73% | ETA:     0.0s | \n",
            "| Epoch  43 / 200: [###################]  100.00% | Loss: 1.2417 | Acc:   66.03% | ETA:     0.0s | \n",
            "| Epoch  44 / 200: [###################]  100.00% | Loss: 1.1946 | Acc:   67.46% | ETA:     0.0s | \n",
            "| Epoch  45 / 200: [###################]  100.00% | Loss: 1.1804 | Acc:   66.32% | ETA:     0.0s | \n",
            "| Epoch  46 / 200: [###################]  100.00% | Loss: 1.1598 | Acc:   67.75% | ETA:     0.0s | \n",
            "| Epoch  47 / 200: [####---------------]   25.00% | Loss: 1.1475 | Acc:   69.02% | ETA:     7.6s | "
          ]
        }
      ],
      "source": [
        "trainer.train()"
      ]
    }
  ],
  "metadata": {
    "colab": {
      "include_colab_link": true,
      "provenance": []
    },
    "kernelspec": {
      "display_name": "pytorchenv",
      "language": "python",
      "name": "python3"
    },
    "language_info": {
      "codemirror_mode": {
        "name": "ipython",
        "version": 3
      },
      "file_extension": ".py",
      "mimetype": "text/x-python",
      "name": "python",
      "nbconvert_exporter": "python",
      "pygments_lexer": "ipython3",
      "version": "3.9.16"
    },
    "orig_nbformat": 4
  },
  "nbformat": 4,
  "nbformat_minor": 0
}
