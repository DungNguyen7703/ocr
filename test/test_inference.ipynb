{
  "cells": [
    {
      "cell_type": "markdown",
      "metadata": {},
      "source": [
        "## Predict"
      ]
    },
    {
      "cell_type": "code",
      "execution_count": 1,
      "metadata": {},
      "outputs": [
        {
          "name": "stdout",
          "output_type": "stream",
          "text": [
            "c:\\Users\\vodin\\project-DD\n"
          ]
        }
      ],
      "source": [
        "%cd .. \n",
        "SRC_PATH = \"test/origin_200\"\n",
        "TARGET_PATH = \"test/train_gt.txt\"\n",
        "MODEL_PATH = \"data\"\n",
        "\n",
        "# SRC_PATH = \"/kaggle/working/new_train\"\n",
        "# TARGET_PATH = \"/kaggle/working/train_gt.txt\"\n",
        "# MODEL_PATH = \"./data\""
      ]
    },
    {
      "cell_type": "code",
      "execution_count": 2,
      "metadata": {},
      "outputs": [
        {
          "name": "stderr",
          "output_type": "stream",
          "text": [
            "c:\\Users\\vodin\\.conda\\envs\\pytorchenv\\lib\\site-packages\\torchvision\\io\\image.py:11: UserWarning: Failed to load image Python extension: Could not find module 'C:\\Users\\vodin\\.conda\\envs\\pytorchenv\\Lib\\site-packages\\torchvision\\image.pyd' (or one of its dependencies). Try using the full path with constructor syntax.\n",
            "  warn(f\"Failed to load image Python extension: {e}\")\n"
          ]
        }
      ],
      "source": [
        "from src.utils.inference import Inference\n",
        "from src.utils.transform import Transform\n",
        "from PIL import Image\n",
        "import os\n",
        "import torch\n",
        "import matplotlib.pyplot as plt"
      ]
    },
    {
      "cell_type": "code",
      "execution_count": 3,
      "metadata": {},
      "outputs": [
        {
          "name": "stderr",
          "output_type": "stream",
          "text": [
            "c:\\Users\\vodin\\.conda\\envs\\pytorchenv\\lib\\site-packages\\torch\\functional.py:445: UserWarning: torch.meshgrid: in an upcoming release, it will be required to pass the indexing argument. (Triggered internally at  ..\\aten\\src\\ATen\\native\\TensorShape.cpp:2157.)\n",
            "  return _VF.meshgrid(tensors, **kwargs)  # type: ignore[attr-defined]\n"
          ]
        },
        {
          "name": "stdout",
          "output_type": "stream",
          "text": [
            "{'transformer': {'embed_size': 384, 'num_heads': 8, 'num_layers': 4, 'max_len': 320, 'dropout': 0.1, 'bias': False, 'embed_type': 'position'}, 'encoder': {'type': 'swin_transformer_v2', 'swin': {'img_size': (64, 128), 'embed_dim': 48, 'window_size': 8, 'in_channels': 3, 'dropout': 0.1}}, 'device': device(type='cuda', index=0), 'lr': 0.0001, 'scheduler': {'active': True, 'first_cycle_steps': 400, 'cycle_mult': 1, 'max_lr': 0.0005, 'min_lr': 1e-05, 'warmup_steps': 40, 'gamma': 0.975}, 'dataloader': {'num_workers': 0}, 'max_grad_norm': 0.5, 'batch_size': 256, 'num_epochs': 150, 'save_per_epochs': 5, 'print_type': 'per_epoch'}\n"
          ]
        }
      ],
      "source": [
        "infer = Inference(MODEL_PATH   = \"model_weights/model_swin_transformer_v2_150.pt\")"
      ]
    },
    {
      "cell_type": "code",
      "execution_count": 4,
      "metadata": {},
      "outputs": [],
      "source": [
        "device = torch.device('cuda:0' if torch.cuda.is_available() else 'cpu')"
      ]
    },
    {
      "cell_type": "code",
      "execution_count": 5,
      "metadata": {},
      "outputs": [
        {
          "name": "stdout",
          "output_type": "stream",
          "text": [
            "| Evaluating: [###################]  100.00% | ETA:     0.0s | Done!\n",
            "Prediction save to: prediction.txt\n"
          ]
        }
      ],
      "source": [
        "pred = infer.predict(SRC_PATH,os.listdir(SRC_PATH),batch_size=50,save=True)"
      ]
    },
    {
      "cell_type": "code",
      "execution_count": 6,
      "metadata": {},
      "outputs": [
        {
          "name": "stdout",
          "output_type": "stream",
          "text": [
            "| Evaluating: [###################]  100.00% | ETA:     0.0s | Done!\n"
          ]
        },
        {
          "data": {
            "text/plain": [
              "{'train_img_89.jpg': 'Ki-Lô-Vôn'}"
            ]
          },
          "execution_count": 6,
          "metadata": {},
          "output_type": "execute_result"
        }
      ],
      "source": [
        "infer.predict(SRC_PATH,[\"train_img_89.jpg\"])"
      ]
    }
  ],
  "metadata": {
    "colab": {
      "include_colab_link": true,
      "provenance": []
    },
    "kernelspec": {
      "display_name": "pytorchenv",
      "language": "python",
      "name": "python3"
    },
    "language_info": {
      "codemirror_mode": {
        "name": "ipython",
        "version": 3
      },
      "file_extension": ".py",
      "mimetype": "text/x-python",
      "name": "python",
      "nbconvert_exporter": "python",
      "pygments_lexer": "ipython3",
      "version": "3.9.16"
    },
    "orig_nbformat": 4
  },
  "nbformat": 4,
  "nbformat_minor": 0
}
